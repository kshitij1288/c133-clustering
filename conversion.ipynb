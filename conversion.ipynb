{
 "cells": [
  {
   "cell_type": "code",
   "execution_count": 16,
   "metadata": {},
   "outputs": [],
   "source": [
    "import pandas as pd"
   ]
  },
  {
   "cell_type": "code",
   "execution_count": 17,
   "metadata": {},
   "outputs": [
    {
     "name": "stdout",
     "output_type": "stream",
     "text": [
      "   Unnamed: 0       Star_name     Distance  Mass  Radius     Gravity\n",
      "0           0             Sun  0.000015813   1.0    1.00  274.269161\n",
      "1           1          Sirius          8.6   2.1    1.71  196.971800\n",
      "2           2         Canopus          310  15.0   71.00    0.816115\n",
      "3           3  Alpha Centauri          4.4   1.1    1.20  209.511165\n",
      "4           4        Arcturus           37   1.1   26.00    0.446296\n"
     ]
    }
   ],
   "source": [
    "df = pd.read_csv('star_with_gravity.csv')\n",
    "print(df.head())"
   ]
  },
  {
   "cell_type": "code",
   "execution_count": 18,
   "metadata": {},
   "outputs": [],
   "source": [
    "df.drop(['Unnamed: 0'],axis=1,inplace=True)"
   ]
  },
  {
   "cell_type": "code",
   "execution_count": 19,
   "metadata": {},
   "outputs": [
    {
     "name": "stdout",
     "output_type": "stream",
     "text": [
      "        Star_name     Distance  Mass  Radius     Gravity\n",
      "0             Sun  0.000015813   1.0    1.00  274.269161\n",
      "1          Sirius          8.6   2.1    1.71  196.971800\n",
      "2         Canopus          310  15.0   71.00    0.816115\n",
      "3  Alpha Centauri          4.4   1.1    1.20  209.511165\n",
      "4        Arcturus           37   1.1   26.00    0.446296\n"
     ]
    }
   ],
   "source": [
    "print(df.head())"
   ]
  },
  {
   "cell_type": "code",
   "execution_count": 21,
   "metadata": {},
   "outputs": [],
   "source": [
    "df_list = df.iloc[:,[2,3]].values"
   ]
  },
  {
   "cell_type": "code",
   "execution_count": 22,
   "metadata": {},
   "outputs": [],
   "source": [
    "import matplotlib.pyplot as plt\n",
    "import seaborn as sns\n",
    "import plotly_express as px\n",
    "from sklearn.cluster import KMeans"
   ]
  },
  {
   "cell_type": "code",
   "execution_count": 33,
   "metadata": {},
   "outputs": [
    {
     "name": "stdout",
     "output_type": "stream",
     "text": [
      "No. of clusters is  10\n"
     ]
    },
    {
     "data": {
      "image/png": "[encoded data removed]",
      "text/plain": [
       "<Figure size 720x360 with 1 Axes>"
      ]
     },
     "metadata": {
      "needs_background": "light"
     },
     "output_type": "display_data"
    }
   ],
   "source": [
    "wcss = []\n",
    "for i in range(1,11):\n",
    "  kmeans = KMeans(n_clusters = i, init = 'k-means++',random_state = 42)\n",
    "  kmeans.fit( df_list)\n",
    "  wcss.append(kmeans.inertia_)\n",
    "\n",
    "plt.figure(figsize = (10,5))\n",
    "plt.plot(range(1,11),wcss,marker='o')\n",
    "plt.title('The Elbow method')\n",
    "plt.xlabel('No. of clusters')\n",
    "plt.ylabel('WCSS')\n",
    "\n",
    "print(\"No. of clusters is \",len(wcss))"
   ]
  }
 ],
 "metadata": {
  "kernelspec": {
   "display_name": "Python 3",
   "language": "python",
   "name": "python3"
  },
  "language_info": {
   "codemirror_mode": {
    "name": "ipython",
    "version": 3
   },
   "file_extension": ".py",
   "mimetype": "text/x-python",
   "name": "python",
   "nbconvert_exporter": "python",
   "pygments_lexer": "ipython3",
   "version": "3.10.0"
  },
  "orig_nbformat": 4,
  "vscode": {
   "interpreter": {
    "hash": "f73ed9574a1394a35fcd02a9c878d19ab9aaba22225a4e0558c852c190b3e114"
   }
  }
 },
 "nbformat": 4,
 "nbformat_minor": 2
}
